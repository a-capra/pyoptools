{
 "cells": [
  {
   "cell_type": "markdown",
   "metadata": {},
   "source": [
    "## A more complex example\n",
    "\n",
    "In this example we will simulate a simple [autocolimator](https://en.wikipedia.org/wiki/Autocollimator) system.\n",
    "\n",
    "The autocolimator system will be made of a point source (**R**), a beam splitting cube (**BS**), a colimator lens (**L**), and a CCD (**C**).\n",
    "\n",
    "In this first example, this will be used to check if a mirror (**M1**) is parallel to the optical axis.\n"
   ]
  },
  {
   "cell_type": "code",
   "execution_count": 1,
   "metadata": {},
   "outputs": [
    {
     "name": "stdout",
     "output_type": "stream",
     "text": [
      "Loading component library Edmund  from files  ['/usr/lib/python3/dist-packages/pyoptools/raytrace/library/Edmund/edmund_spherical.cmp']\n",
      "Loading component library Thorlabs  from files  ['/usr/lib/python3/dist-packages/pyoptools/raytrace/library/Thorlabs/thorlabs_spherical.cmp']\n",
      "Loading component library EdmundHome  from files  ['/home/richi/.pyoptools/library/EdmundHome/SphOptics.cmp']\n"
     ]
    }
   ],
   "source": [
    "from pyoptools.all import *\n",
    "from numpy import pi"
   ]
  },
  {
   "cell_type": "code",
   "execution_count": 40,
   "metadata": {},
   "outputs": [],
   "source": [
    "R=point_source_c(span=(0.06,0.06),num_rays=(5,5),wavelength=.65)\n",
    "BS=BeamSplittingCube(size=25,reflectivity=.5,material=material.schott[\"BK7\"])\n",
    "L=library.Edmund.get(\"32494\")\n",
    "C=CCD()\n",
    "M1= RectMirror(size=(25, 25, 5),material=material.schott[\"BK7\"], reflectivity=1.)\n",
    "\n",
    "S=System(complist=[(C,(20,0,20),(0,pi/2,0)),(BS,(0,0,20),(0,0,0)),(L,(0,0,158.5),(0,-pi,0)),(M1,(0,0,170),(0,0,0))],n=1.)\n",
    "\n",
    "\n",
    "S.ray_add(R)\n",
    "S.propagate()"
   ]
  },
  {
   "cell_type": "code",
   "execution_count": 41,
   "metadata": {},
   "outputs": [
    {
     "data": {
      "application/vnd.jupyter.widget-view+json": {
       "model_id": "643287d0ff0b4a10926ad2021b4a8967",
       "version_major": 2,
       "version_minor": 0
      },
      "text/plain": [
       "Renderer(camera=OrthographicCamera(bottom=-100.0, children=(DirectionalLight(intensity=0.7, position=(0.0, 100…"
      ]
     },
     "metadata": {},
     "output_type": "display_data"
    }
   ],
   "source": [
    "Plot3D(S,center=(0,0,300), size=(600,100),scale=2,rot=[(0,0,-3*pi/8),(0,3*pi/8,0)])"
   ]
  },
  {
   "cell_type": "code",
   "execution_count": 42,
   "metadata": {},
   "outputs": [
    {
     "data": {
      "image/png": "[encoded data removed]",
      "text/plain": [
       "<Figure size 432x288 with 1 Axes>"
      ]
     },
     "metadata": {
      "needs_background": "light"
     },
     "output_type": "display_data"
    }
   ],
   "source": [
    "spot_diagram(C)"
   ]
  },
  {
   "cell_type": "markdown",
   "metadata": {},
   "source": [
    "In the next example the mirror will be tilted 10 urads"
   ]
  },
  {
   "cell_type": "code",
   "execution_count": 72,
   "metadata": {},
   "outputs": [
    {
     "data": {
      "image/png": "[encoded data removed]",
      "text/plain": [
       "<Figure size 432x288 with 1 Axes>"
      ]
     },
     "metadata": {
      "needs_background": "light"
     },
     "output_type": "display_data"
    }
   ],
   "source": [
    "R=point_source_c(span=(0.06,0.06),num_rays=(25,25),wavelength=.65)\n",
    "BS=BeamSplittingCube(size=25,reflectivity=.5,material=material.schott[\"BK7\"])\n",
    "L=library.Edmund.get(\"32494\")\n",
    "C=CCD()\n",
    "M1= RectMirror(size=(25, 25, 5),material=material.schott[\"BK7\"], reflectivity=1.)\n",
    "\n",
    "S=System(complist=[(C,(20,0,20),(0,pi/2,0)),(BS,(0,0,20),(0,0,0)),(L,(0,0,158.5),(0,-pi,0)),(M1,(0,0,170),(1.E-6,0,0))],n=1.)\n",
    "\n",
    "\n",
    "S.ray_add(R)\n",
    "S.propagate()\n",
    "\n",
    "spot_diagram(C)"
   ]
  },
  {
   "cell_type": "code",
   "execution_count": 73,
   "metadata": {},
   "outputs": [
    {
     "name": "stdout",
     "output_type": "stream",
     "text": [
      "1.5020235055729358e-13 0.007495630361423743\n",
      "1.8916417315895882e-06\n"
     ]
    }
   ],
   "source": [
    "cx=0.\n",
    "cy=0.\n",
    "\n",
    "for c,r in C.hit_list:\n",
    "    cx=cx+c[0]\n",
    "    cy=cy+c[1]\n",
    "print(cx/25, cy/25)\n",
    "\n",
    "print((cy/(25*25)/158.5))\n"
   ]
  },
  {
   "cell_type": "markdown",
   "metadata": {},
   "source": [
    "In this case, the resulting spot diagram is similar to the previous one, but we can see the central spot is not located at the origin of the **CCD** anymore."
   ]
  },
  {
   "cell_type": "code",
   "execution_count": 50,
   "metadata": {},
   "outputs": [
    {
     "data": {
      "text/plain": [
       "1.892744479495268e-05"
      ]
     },
     "execution_count": 50,
     "metadata": {},
     "output_type": "execute_result"
    }
   ],
   "source": [
    ".003/158.5"
   ]
  },
  {
   "cell_type": "code",
   "execution_count": 47,
   "metadata": {},
   "outputs": [
    {
     "data": {
      "text/plain": [
       "1.5772870661152557e-05"
      ]
     },
     "execution_count": 47,
     "metadata": {},
     "output_type": "execute_result"
    }
   ],
   "source": [
    "arctan2(.0025,158.5)"
   ]
  },
  {
   "cell_type": "code",
   "execution_count": null,
   "metadata": {},
   "outputs": [],
   "source": [
    "BS=BeamSplitingCube(size=25,reflectivity=.5,material=material.schott[\"BK7\"])\n",
    "L=library.Edmund.get(\"32494\")\n",
    "M2=Component(surflist=[(Spherical(shape=Circular(radius=20),curvature=1./1000,reflectivity=1),(0,0,0),(0,0,0))])\n",
    "\n",
    "C=CCD()\n",
    "\n",
    "#Nota, hay problemas si existe una cavidad resonante\n",
    "S=System(complist=[(C,(20,0,20),(0,pi/2,0)),(BS,(0,0,20),(0,0,0)),(L,(0,0,176.5),(0,-pi,0)),(M2,(0,0,570),(.0,0,0))],n=1.)\n",
    "R=point_source_c(span=(0.06,0.06),num_rays=(5,5),wavelength=.65)\n",
    "\n",
    "\n",
    "S.ray_add(R)\n",
    "S.propagate()\n"
   ]
  },
  {
   "cell_type": "code",
   "execution_count": null,
   "metadata": {},
   "outputs": [],
   "source": [
    "Plot3D(S,center=(0,0,300), size=(600,100),scale=2,rot=[(0,0,-3*pi/8),(0,3*pi/8,0)])"
   ]
  },
  {
   "cell_type": "code",
   "execution_count": null,
   "metadata": {},
   "outputs": [],
   "source": [
    "spot_diagram(C)"
   ]
  },
  {
   "cell_type": "code",
   "execution_count": null,
   "metadata": {},
   "outputs": [],
   "source": []
  }
 ],
 "metadata": {
  "kernelspec": {
   "display_name": "Python 3",
   "language": "python",
   "name": "python3"
  },
  "language_info": {
   "codemirror_mode": {
    "name": "ipython",
    "version": 3
   },
   "file_extension": ".py",
   "mimetype": "text/x-python",
   "name": "python",
   "nbconvert_exporter": "python",
   "pygments_lexer": "ipython3",
   "version": "3.7.3"
  }
 },
 "nbformat": 4,
 "nbformat_minor": 1
}
