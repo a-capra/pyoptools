{
 "cells": [
  {
   "cell_type": "markdown",
   "metadata": {},
   "source": [
    "## Using predefined components with pyOpTools\n",
    "\n",
    "pyOpTools has a growing library of [predefined components](../../pyoptools.raytrace.comp_lib.rst). Some of those components will be shown in this notebook, as well as some simple examples on how to use them.\n"
   ]
  },
  {
   "cell_type": "code",
   "execution_count": null,
   "metadata": {},
   "outputs": [],
   "source": [
    "from pyoptools.all import *"
   ]
  },
  {
   "cell_type": "markdown",
   "metadata": {},
   "source": [
    "### Spherical lens\n",
    "\n",
    "The most common optical systems are composed by spherical lenses, so pyOpTools have a helper [class](../../pyoptools.raytrace.comp_lib.rst#pyoptools.raytrace.comp_lib.SphericalLens) to create round-shaped sprerical lenses. \n",
    "\n",
    "To create such a lens, the following parameters must be given to the constructor:\n",
    "\n",
    "**radius**\n",
    "\n",
    "> This defines the radius of the lens given in mm\n",
    "\n",
    "**thickness**\n",
    "\n",
    "> Distance between the vertex of the 2 spherical surfaces that create the lens. given in mm \n",
    "\n",
    "**curvature_s1**\n",
    "\n",
    "> curvature of the anterior surface of the lens given in 1/mm.\n",
    "\n",
    "**curvature_s2**\n",
    "\n",
    "> curvature of the posterior surface of the lens given in 1/mm.\n",
    "\n",
    "**material**\n",
    "\n",
    "> Instance ot the class material, or floating number specifiying the refraction index of the glass used to build the lens.\n",
    "\n",
    "\n",
    "In the following example, a system made by an bi-convex lens will be created. A list of ray will be added, and the rays will be propagated."
   ]
  },
  {
   "cell_type": "code",
   "execution_count": null,
   "metadata": {},
   "outputs": [],
   "source": [
    "L1=SphericalLens(radius=25,curvature_s1=1./100.,curvature_s2=-1./100,thickness=10,material=material.schott[\"BK7\"])\n",
    "SEN1=CCD(size=(10,10))\n",
    "S=System(complist=[(L1,(0,0,100),(0,0,0))],n=1)\n",
    "R=[Ray(pos=(0,0,0),dir=(0,.2,1),wavelength=.650),\n",
    "   Ray(pos=(0,0,0),dir=(0,-.2,1),wavelength=.650),\n",
    "   Ray(pos=(0,0,0),dir=(.2,0,1),wavelength=.650),\n",
    "   Ray(pos=(0,0,0),dir=(-.2,0,1),wavelength=.650),\n",
    "   Ray(pos=(0,0,0),dir=(0,0,1),wavelength=.650)]\n",
    "S.ray_add(R)\n",
    "S.propagate()\n",
    "Plot3D(S,center=(0,0,100),size=(200,100),scale=4,rot=[(0,-pi/2,0),(pi/20,-pi/10,0)])"
   ]
  },
  {
   "cell_type": "markdown",
   "metadata": {},
   "source": [
    "### CCD\n",
    "\n",
    "One of the most util predefined component is the [CCD](../../pyoptools.raytrace.comp_lib.rst#pyoptools.raytrace.comp_lib.CCD). Its main use is to capture ray information ar a given place in the optical system. Several CCD instances can be used in the same setup.\n",
    "\n",
    "In the next example a system made up from a CCD with a size of 10mm X 10 mm and an spherical lens will be created and simulated:\n"
   ]
  },
  {
   "cell_type": "code",
   "execution_count": null,
   "metadata": {},
   "outputs": [],
   "source": [
    "L1=SphericalLens(radius=25,curvature_s1=1./100.,curvature_s2=-1./100,thickness=10,material=material.schott[\"BK7\"])\n",
    "SEN1=CCD(size=(10,10))\n",
    "S=System(complist=[(L1,(0,0,100),(0,0,0)),\n",
    "                   (SEN1,(0,0,200),(0,0,0))],n=1)\n",
    "R=[Ray(pos=(0,0,0),dir=(0,.2,1),wavelength=.650),\n",
    "   Ray(pos=(0,0,0),dir=(0,-.2,1),wavelength=.650),\n",
    "   Ray(pos=(0,0,0),dir=(.2,0,1),wavelength=.650),\n",
    "   Ray(pos=(0,0,0),dir=(-.2,0,1),wavelength=.650),\n",
    "   Ray(pos=(0,0,0),dir=(0,0,1),wavelength=.650)]\n",
    "S.ray_add(R)\n",
    "S.propagate()\n",
    "Plot3D(S,center=(0,0,100),size=(200,100),scale=4,rot=[(0,pi/2,0),(pi/20,-pi/10,0)])"
   ]
  },
  {
   "cell_type": "code",
   "execution_count": null,
   "metadata": {},
   "outputs": [],
   "source": [
    "Stop()"
   ]
  },
  {
   "cell_type": "code",
   "execution_count": null,
   "metadata": {},
   "outputs": [],
   "source": [
    "SphericalLens()"
   ]
  },
  {
   "cell_type": "code",
   "execution_count": null,
   "metadata": {},
   "outputs": [],
   "source": [
    "Doublet()"
   ]
  },
  {
   "cell_type": "code",
   "execution_count": null,
   "metadata": {},
   "outputs": [],
   "source": [
    "Block()"
   ]
  },
  {
   "cell_type": "code",
   "execution_count": null,
   "metadata": {},
   "outputs": [],
   "source": [
    "RightAnglePrism()"
   ]
  },
  {
   "cell_type": "code",
   "execution_count": null,
   "metadata": {},
   "outputs": [],
   "source": [
    "BeamSplitingCube()"
   ]
  },
  {
   "cell_type": "markdown",
   "metadata": {},
   "source": [
    "# Catalogos de materiales predefinidos"
   ]
  },
  {
   "cell_type": "code",
   "execution_count": null,
   "metadata": {},
   "outputs": [],
   "source": [
    "from pyoptools.raytrace.mat_lib.material import liblist\n",
    "for lib,mat in liblist: \n",
    "    print(lib)"
   ]
  },
  {
   "cell_type": "code",
   "execution_count": null,
   "metadata": {},
   "outputs": [],
   "source": [
    "material.schott.keys()"
   ]
  },
  {
   "cell_type": "markdown",
   "metadata": {},
   "source": [
    "# Catalogo de lentes predefinidas"
   ]
  },
  {
   "cell_type": "code",
   "execution_count": null,
   "metadata": {},
   "outputs": [],
   "source": [
    "for i in library.Edmund.parts():\n",
    "    try:\n",
    "        a=library.Edmund.get(i)\n",
    "        print(type(a))\n",
    "    except:\n",
    "        pass"
   ]
  },
  {
   "cell_type": "code",
   "execution_count": null,
   "metadata": {},
   "outputs": [],
   "source": []
  }
 ],
 "metadata": {
  "kernelspec": {
   "display_name": "Python 3",
   "language": "python",
   "name": "python3"
  },
  "language_info": {
   "codemirror_mode": {
    "name": "ipython",
    "version": 3
   },
   "file_extension": ".py",
   "mimetype": "text/x-python",
   "name": "python",
   "nbconvert_exporter": "python",
   "pygments_lexer": "ipython3",
   "version": "3.7.3"
  }
 },
 "nbformat": 4,
 "nbformat_minor": 1
}
