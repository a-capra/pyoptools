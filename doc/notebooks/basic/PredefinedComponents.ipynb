{
 "cells": [
  {
   "cell_type": "markdown",
   "metadata": {},
   "source": [
    "## Using predefined components with pyOpTools\n",
    "\n",
    "Starting from surfaces to create components to define optical systems to run a simulation, can be very time consumming, for this reason pyOpTools has a growing library of [predefined components](../../pyoptools.raytrace.comp_lib.rst). Some of these components, as well as some simple examples on how to use them to run simulation will be shown below.\n"
   ]
  },
  {
   "cell_type": "code",
   "execution_count": null,
   "metadata": {},
   "outputs": [],
   "source": [
    "from pyoptools.all import *"
   ]
  },
  {
   "cell_type": "markdown",
   "metadata": {},
   "source": [
    "### Spherical lens\n",
    "\n",
    "The most common optical systems are composed by spherical lenses, so pyOpTools have a [SphericalLens](../../pyoptools.raytrace.comp_lib.rst#pyoptools.raytrace.comp_lib.SphericalLens) helper class to create round-shaped sprerical lenses. \n",
    "\n",
    "In this example a bi-convex lens with a diameter of 50mm (r=25mm) wil be created. The curvature in both surfaces will be 1/100mm and the thickness at the center of the lens will be 10mm. The material used to simulate the lens is BK7 from the schoot catalog.\n",
    "\n",
    "Using this lens a [System](../../pyoptools.raytrace.system.system.rst#pyoptools.raytrace.system.system.System) is created. The position of the lens (the mid-point between the vertexes) is the (0,0,100) coordinate. No rotation of the lens is made.\n",
    "\n",
    "After the system is ready, a list of rays that will be propagated must be defined. In this example a list **R**, containing 5 rays is created. The origin of such [Rays](../pyoptools.raytrace.ray.ray.rst#pyoptools.raytrace.ray.ray.Ray) is defined as the coordinate (0,0,0). Each one has a different direction vector to create something similar to a point source located at the origin and aiming to the lens. The wavelenght for all rays is defined as 650nm.\n",
    "\n",
    "<div class=\"alert alert-info\">\n",
    "    \n",
    "**Note:** In pyOpTools the wavelenghts are defined in microns.\n",
    "\n",
    "</div>\n",
    "\n",
    "After the system and the ray beam are created, the later is added to the former, and the propagation calculation is performed.\n",
    "\n",
    "The last [Plot3d](pyoptools.gui.ipywidgets.rst#pyoptools.gui.ipywidgets.Plot3D) command creates an interactive 3D plot of the system and the propagated rays."
   ]
  },
  {
   "cell_type": "code",
   "execution_count": null,
   "metadata": {},
   "outputs": [],
   "source": [
    "L1=SphericalLens(radius=25,curvature_s1=1./100.,curvature_s2=-1./100,\n",
    "                thickness=10,material=material.schott[\"BK7\"])\n",
    "\n",
    "S=System(complist=[(L1,(0,0,100),(0,0,0))],n=1)\n",
    "R=[Ray(pos=(0,0,0),dir=(0,.2,1),wavelength=.650),\n",
    "   Ray(pos=(0,0,0),dir=(0,-.2,1),wavelength=.650),\n",
    "   Ray(pos=(0,0,0),dir=(.2,0,1),wavelength=.650),\n",
    "   Ray(pos=(0,0,0),dir=(-.2,0,1),wavelength=.650),\n",
    "   Ray(pos=(0,0,0),dir=(0,0,1),wavelength=.650)]\n",
    "S.ray_add(R)\n",
    "S.propagate()\n",
    "Plot3D(S,center=(0,0,100),size=(300,100),scale=2,rot=[(0,-pi/2,0),(pi/20,-pi/10,0)])"
   ]
  },
  {
   "cell_type": "markdown",
   "metadata": {},
   "source": [
    "Besides the SphericalLens, pyOptools has classes to create the following lenses:\n",
    "    \n",
    "- [Doublet](../../pyoptools.raytrace.comp_lib.rst#pyoptools.raytrace.comp_lib.Doublet)\n",
    "- [AirSpacedDoublet](../../pyoptools.raytrace.comp_lib.rst#pyoptools.raytrace.comp_lib.AirSpacedDoublet)\n",
    "- [CylindricalLens](../../pyoptools.raytrace.comp_lib.rst#pyoptools.raytrace.comp_lib.CylindricalLens)\n",
    "- [IdealLens](../../pyoptools.raytrace.comp_lib.rst#pyoptools.raytrace.comp_lib.IdealLens)\n",
    "- [IdealTLens](../../pyoptools.raytrace.comp_lib.rst#pyoptools.raytrace.comp_lib.IdealTLens)\n",
    "- [PowellLens](../../pyoptools.raytrace.comp_lib.rst#pyoptools.raytrace.comp_lib.PowellLens)"
   ]
  },
  {
   "cell_type": "markdown",
   "metadata": {},
   "source": [
    "### CCD\n",
    "\n",
    "Most of the time it is needed a way to get information, such a spot diagram at a certain place in the system after running a simulation. pyOpTools define the [CCD](../../pyoptools.raytrace.comp_lib.rst#pyoptools.raytrace.comp_lib.CCD) component for this task. Its main use is to capture ray information ar a given place in the optical system. Several CCD instances can be used in the same setup.\n",
    "\n",
    "In the next example a system made up from a CCD with a size of 10mm X 10 mm and an spherical lens will be created and simulated:\n"
   ]
  },
  {
   "cell_type": "code",
   "execution_count": null,
   "metadata": {},
   "outputs": [],
   "source": [
    "L1=SphericalLens(radius=25,curvature_s1=1./100.,curvature_s2=-1./100,thickness=10,material=material.schott[\"BK7\"])\n",
    "SEN1=CCD(size=(10,10))\n",
    "S=System(complist=[(L1,(0,0,200),(0,0,0)),\n",
    "                   (SEN1,(0,0,400),(0,0,0))],n=1)\n",
    "R=[Ray(pos=(0,0,0),dir=(0,.1,1),wavelength=.650),\n",
    "   Ray(pos=(0,0,0),dir=(0,-.1,1),wavelength=.650),\n",
    "   Ray(pos=(0,0,0),dir=(.1,0,1),wavelength=.650),\n",
    "   Ray(pos=(0,0,0),dir=(-.1,0,1),wavelength=.650),\n",
    "   Ray(pos=(0,0,0),dir=(0,0,1),wavelength=.650)]\n",
    "S.ray_add(R)\n",
    "S.propagate()\n",
    "Plot3D(S,center=(0,0,200),size=(450,100),scale=2,rot=[(0,-pi/2,0),(pi/20,-pi/10,0)])"
   ]
  },
  {
   "cell_type": "markdown",
   "metadata": {},
   "source": [
    "After the rays propagation is finished, it is possible to plot the spot diagram of the CCD. In this case it can be seen that the CCD is not located close to the image plane."
   ]
  },
  {
   "cell_type": "code",
   "execution_count": null,
   "metadata": {},
   "outputs": [],
   "source": [
    "spot_diagram(SEN1)"
   ]
  },
  {
   "cell_type": "markdown",
   "metadata": {},
   "source": [
    "The sensor has an attribute called [hit_list](../../pyoptools.raytrace.comp_lib.rst#pyoptools.raytrace.comp_lib.CCD.hit_list). This is a list containing a set of tuples with the coordinates of each hit point, and the ray that hitted at this point. In the following example, the coordinates of the hit point is printed:"
   ]
  },
  {
   "cell_type": "code",
   "execution_count": null,
   "metadata": {},
   "outputs": [],
   "source": [
    "for C,R in SEN1.hit_list:\n",
    "    print(C)"
   ]
  },
  {
   "cell_type": "code",
   "execution_count": null,
   "metadata": {},
   "outputs": [],
   "source": [
    "Stop()1"
   ]
  },
  {
   "cell_type": "code",
   "execution_count": null,
   "metadata": {},
   "outputs": [],
   "source": []
  },
  {
   "cell_type": "code",
   "execution_count": null,
   "metadata": {},
   "outputs": [],
   "source": []
  },
  {
   "cell_type": "code",
   "execution_count": null,
   "metadata": {},
   "outputs": [],
   "source": [
    "Block()"
   ]
  },
  {
   "cell_type": "code",
   "execution_count": null,
   "metadata": {},
   "outputs": [],
   "source": [
    "RightAnglePrism()"
   ]
  },
  {
   "cell_type": "code",
   "execution_count": null,
   "metadata": {},
   "outputs": [],
   "source": [
    "BeamSplitingCube()"
   ]
  },
  {
   "cell_type": "markdown",
   "metadata": {},
   "source": [
    "# Catalogos de materiales predefinidos"
   ]
  },
  {
   "cell_type": "code",
   "execution_count": null,
   "metadata": {},
   "outputs": [],
   "source": [
    "from pyoptools.raytrace.mat_lib.material import liblist\n",
    "for lib,mat in liblist: \n",
    "    print(lib)"
   ]
  },
  {
   "cell_type": "code",
   "execution_count": null,
   "metadata": {},
   "outputs": [],
   "source": [
    "material.schott.keys()"
   ]
  },
  {
   "cell_type": "markdown",
   "metadata": {},
   "source": [
    "# Catalogo de lentes predefinidas"
   ]
  },
  {
   "cell_type": "code",
   "execution_count": null,
   "metadata": {},
   "outputs": [],
   "source": [
    "for i in library.Edmund.parts():\n",
    "    try:\n",
    "        a=library.Edmund.get(i)\n",
    "        print(type(a))\n",
    "    except:\n",
    "        pass"
   ]
  },
  {
   "cell_type": "code",
   "execution_count": null,
   "metadata": {},
   "outputs": [],
   "source": []
  }
 ],
 "metadata": {
  "kernelspec": {
   "display_name": "Python 3",
   "language": "python",
   "name": "python3"
  },
  "language_info": {
   "codemirror_mode": {
    "name": "ipython",
    "version": 3
   },
   "file_extension": ".py",
   "mimetype": "text/x-python",
   "name": "python",
   "nbconvert_exporter": "python",
   "pygments_lexer": "ipython3",
   "version": "3.7.3"
  }
 },
 "nbformat": 4,
 "nbformat_minor": 1
}
